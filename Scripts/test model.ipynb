{
 "cells": [
  {
   "cell_type": "code",
   "execution_count": 1,
   "metadata": {},
   "outputs": [],
   "source": [
    "path_to_model = \"C:/Users/Robot-2/Documents/Yolo/yolov7/runs/train/exp22/weights/best.pt\"\n",
    "path_to_yolov7 = \"C:/Users/Robot-2/Documents/Yolo/yolov7\"\n",
    "path_to_source = \"C:/Users/Robot-2/Downloads/20230421_132637.mp4\" # video or image folder\n",
    "path_to_output_folder =\"C:/Users/Robot-2/Documents/Yolo/yolov7/exp\"\n",
    "display_results = True\n",
    "gpu = True\n",
    "# classes = [\"robot\",\"ballon\",\"\",\"\",\"\",\"\",\"robot_rct\",\"humain\",\"\",\"\",\"cible\",\"valise\"]\n",
    "classes = [\"robot\",\"ballon\",\"but\",\"poteau\",\"tag_bleu\",\"tag_rouge\",\"robot_rct\",\"humain\",\"brassard_rouge\",\"brassard_bleu\",\"cible\",\"valise\"]"
   ]
  },
  {
   "cell_type": "code",
   "execution_count": 2,
   "metadata": {},
   "outputs": [
    {
     "name": "stdout",
     "output_type": "stream",
     "text": [
      "0 1 2 3 4 5 6 7 8 9 10 11 \n",
      "python \"C:/Users/Robot-2/Documents/Yolo/yolov7/detect.py\" --weights \"C:/Users/Robot-2/Documents/Yolo/yolov7/runs/train/exp22/weights/best.pt\" --img-size 640 --save-txt --source \"C:/Users/Robot-2/Downloads/20230421_132637.mp4\"  --name \"C:/Users/Robot-2/Documents/Yolo/yolov7/exp/run\" --classes 0 1 2 3 4 5 6 7 8 9 10 11 --iou-thres 0.1\n"
     ]
    },
    {
     "data": {
      "text/plain": [
       "CompletedProcess(args='python \"C:/Users/Robot-2/Documents/Yolo/yolov7/detect.py\" --weights \"C:/Users/Robot-2/Documents/Yolo/yolov7/runs/train/exp22/weights/best.pt\" --img-size 640 --save-txt --source \"C:/Users/Robot-2/Downloads/20230421_132637.mp4\"  --name \"C:/Users/Robot-2/Documents/Yolo/yolov7/exp/run\" --classes 0 1 2 3 4 5 6 7 8 9 10 11 --iou-thres 0.1', returncode=0)"
      ]
     },
     "execution_count": 2,
     "metadata": {},
     "output_type": "execute_result"
    }
   ],
   "source": [
    "import os\n",
    "import subprocess\n",
    "\n",
    "# images = [os.path.join(path_to_source, i) for i in os.listdir(path_to_source)]\n",
    "cd_command = 'powershell.exe cd \"{}\"'.format(path_to_yolov7)\n",
    "process = subprocess.run(cd_command, capture_output=True, text=True, check=True)\n",
    "# Get classes indexes list\n",
    "classes_list_indexes = \"\"\n",
    "for i in classes:\n",
    "    if i != \"\":\n",
    "        index = classes.index(i)\n",
    "        classes_list_indexes += str(index) + \" \"\n",
    "\n",
    "print(classes_list_indexes)\n",
    "\n",
    "command = 'python \"{}/detect.py\" --weights \"{}\" --img-size 640 --save-txt --source \"{}\"{} --name \"{}/run\" --classes {}--iou-thres 0.1'.format(path_to_yolov7 ,path_to_model,path_to_source,\" --nosave\" if not(display_results) else \" \", path_to_output_folder,classes_list_indexes)\n",
    "print(command)\n",
    "subprocess.run(command, shell=True)"
   ]
  }
 ],
 "metadata": {
  "kernelspec": {
   "display_name": "Python 3",
   "language": "python",
   "name": "python3"
  },
  "language_info": {
   "codemirror_mode": {
    "name": "ipython",
    "version": 3
   },
   "file_extension": ".py",
   "mimetype": "text/x-python",
   "name": "python",
   "nbconvert_exporter": "python",
   "pygments_lexer": "ipython3",
   "version": "3.10.11"
  },
  "orig_nbformat": 4
 },
 "nbformat": 4,
 "nbformat_minor": 2
}
