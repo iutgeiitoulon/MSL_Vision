{
 "cells": [
  {
   "cell_type": "code",
   "execution_count": 50,
   "metadata": {},
   "outputs": [],
   "source": [
    "path_to_model = 'C:/Users/HP/Nextcloud/Document/Informatique/DNN/YOLO/v7/yolov7-tiny-robocup.pt'\n",
    "path_to_yolov7 = 'C:/Users/HP/Documents/GitHub/TLYolo/yolov7/yolov7'\n",
    "path_to_image_folder = 'C:/Users/HP/Documents/GitHub/Object-Detection-and-Datasets/Datasets/RCT robots and players/New angle 1'\n",
    "path_to_output_folder = 'C:/Users/HP/Documents/GitHub/Object-Detection-and-Datasets/Datasets/RCT robots and players/New angle 1/detections'\n",
    "display_results = False\n",
    "classes = [\"robot\",\"ballon\",\"\",\"\",\"\",\"\",\"robot_rct\",\"humain\",\"\",\"\",\"cible\",\"valise\"]\n",
    "# classes = [\"robot\",\"ballon\",\"but\",\"poteau\",\"tag_bleu\",\"tag_rouge\",\"robot_rct\",\"humain\",\"brassard_rouge\",\"brassard_bleu\",\"cible\",\"valise\"]\n"
   ]
  },
  {
   "cell_type": "code",
   "execution_count": 52,
   "metadata": {},
   "outputs": [
    {
     "name": "stdout",
     "output_type": "stream",
     "text": [
      "0 1 6 7 10 11 \n",
      "python \"C:/Users/HP/Documents/GitHub/TLYolo/yolov7/yolov7/detect.py\" --weights \"C:/Users/HP/Nextcloud/Document/Informatique/DNN/YOLO/v7/yolov7-tiny-robocup.pt\" --img-size 640 --save-txt --source \"C:/Users/HP/Documents/GitHub/Object-Detection-and-Datasets/Datasets/RCT robots and players/New angle 1\\capture_20220919_141733.jpg\" --nosave --name \"C:/Users/HP/Documents/GitHub/Object-Detection-and-Datasets/Datasets/RCT robots and players/New angle 1/detections/img\" --classes 0 1 6 7 10 11 --iou-thres 0.1\n",
      "python \"C:/Users/HP/Documents/GitHub/TLYolo/yolov7/yolov7/detect.py\" --weights \"C:/Users/HP/Nextcloud/Document/Informatique/DNN/YOLO/v7/yolov7-tiny-robocup.pt\" --img-size 640 --save-txt --source \"C:/Users/HP/Documents/GitHub/Object-Detection-and-Datasets/Datasets/RCT robots and players/New angle 1\\capture_20220919_141738.jpg\" --nosave --name \"C:/Users/HP/Documents/GitHub/Object-Detection-and-Datasets/Datasets/RCT robots and players/New angle 1/detections/img\" --classes 0 1 6 7 10 11 --iou-thres 0.1\n"
     ]
    }
   ],
   "source": [
    "import os\n",
    "import subprocess\n",
    "\n",
    "images = [os.path.join(path_to_image_folder, i) for i in os.listdir(path_to_image_folder)]\n",
    "cd_command = 'powershell.exe cd \"{}\"'.format(path_to_yolov7)\n",
    "process = subprocess.run(cd_command, capture_output=True, text=True, check=True)\n",
    "# Get classes indexes list\n",
    "classes_list_indexes = \"\"\n",
    "for i in classes:\n",
    "    if i != \"\":\n",
    "        index = classes.index(i)\n",
    "        classes_list_indexes += str(index) + \" \"\n",
    "\n",
    "print(classes_list_indexes)\n",
    "\n",
    "command = 'python \"{}/detect.py\" --weights \"{}\" --img-size 640 --save-txt --source \"{}\"{}--name \"{}/img\" --classes {}--iou-thres 0.1'.format(path_to_yolov7 ,path_to_model,path_to_image_folder,\" --nosave\" if not(display_results) else \" \", path_to_output_folder,classes_list_indexes)\n",
    "print(command)\n",
    "subprocess.run(command, shell=True)"
   ]
  },
  {
   "attachments": {},
   "cell_type": "markdown",
   "metadata": {},
   "source": [
    "Create the images.txt containing all images ran through the detector"
   ]
  },
  {
   "cell_type": "code",
   "execution_count": 39,
   "metadata": {},
   "outputs": [],
   "source": [
    "# Get a list of all the files in the directory\n",
    "file_list = os.listdir(path_to_image_folder)\n",
    "\n",
    "# Filter out only the image files\n",
    "image_extensions = ['.jpg', '.jpeg', '.png', '.bmp', '.gif']\n",
    "image_list = [filename for filename in file_list if os.path.splitext(filename)[1].lower() in image_extensions]\n",
    "\n",
    "# Write the image names to a text file\n",
    "with open('imagelist.txt', 'a') as f:\n",
    "    for image_name in image_list:\n",
    "        f.write(os.path.join(path_to_output_folder, image_name) + '\\n')\n"
   ]
  }
 ],
 "metadata": {
  "kernelspec": {
   "display_name": "Python 3",
   "language": "python",
   "name": "python3"
  },
  "language_info": {
   "codemirror_mode": {
    "name": "ipython",
    "version": 3
   },
   "file_extension": ".py",
   "mimetype": "text/x-python",
   "name": "python",
   "nbconvert_exporter": "python",
   "pygments_lexer": "ipython3",
   "version": "3.10.7"
  },
  "orig_nbformat": 4
 },
 "nbformat": 4,
 "nbformat_minor": 2
}
