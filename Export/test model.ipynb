{
 "cells": [
  {
   "cell_type": "code",
   "execution_count": 10,
   "metadata": {},
   "outputs": [],
   "source": [
    "path_to_model = 'yolov7/yolov7-tiny-robocup-angled.pt'\n",
    "path_to_yolov7 = 'yolov7'\n",
    "path_to_source = 'C:/Users/Robot-2/Downloads/20230421_132637.mp4'\n",
    "path_to_output_folder = 'C:/Users/Robot-2/Documents/Yolo/yolov7/exp'\n",
    "display_results = True\n",
    "gpu = True\n",
    "# classes = [\"robot\",\"ballon\",\"\",\"\",\"\",\"\",\"robot_rct\",\"humain\",\"\",\"\",\"cible\",\"valise\"]\n",
    "classes = [\"robot\",\"ballon\",\"but\",\"poteau\",\"tag_bleu\",\"tag_rouge\",\"robot_rct\",\"humain\",\"brassard_rouge\",\"brassard_bleu\",\"cible\",\"valise\"]"
   ]
  },
  {
   "cell_type": "code",
   "execution_count": 11,
   "metadata": {},
   "outputs": [
    {
     "name": "stdout",
     "output_type": "stream",
     "text": [
      "0 1 2 3 4 5 6 7 8 9 10 11 \n",
      "python \"yolov7/detect.py\" --weights \"yolov7/yolov7-tiny-robocup-angled.pt\" --img-size 640 --save-txt --source \"C:/Users/Robot-2/Downloads/20230421_132637.mp4\"  --name \"C:/Users/Robot-2/Documents/Yolo/yolov7/exp/run\" --classes 0 1 2 3 4 5 6 7 8 9 10 11 --iou-thres 0.1\n"
     ]
    },
    {
     "data": {
      "text/plain": [
       "CompletedProcess(args='python \"yolov7/detect.py\" --weights \"yolov7/yolov7-tiny-robocup-angled.pt\" --img-size 640 --save-txt --source \"C:/Users/Robot-2/Downloads/20230421_132637.mp4\"  --name \"C:/Users/Robot-2/Documents/Yolo/yolov7/exp/run\" --classes 0 1 2 3 4 5 6 7 8 9 10 11 --iou-thres 0.1', returncode=0)"
      ]
     },
     "execution_count": 11,
     "metadata": {},
     "output_type": "execute_result"
    }
   ],
   "source": [
    "import os\n",
    "import subprocess\n",
    "\n",
    "# images = [os.path.join(path_to_source, i) for i in os.listdir(path_to_source)]\n",
    "cd_command = 'powershell.exe cd \"{}\"'.format(path_to_yolov7)\n",
    "process = subprocess.run(cd_command, capture_output=True, text=True, check=True)\n",
    "# Get classes indexes list\n",
    "classes_list_indexes = \"\"\n",
    "for i in classes:\n",
    "    if i != \"\":\n",
    "        index = classes.index(i)\n",
    "        classes_list_indexes += str(index) + \" \"\n",
    "\n",
    "print(classes_list_indexes)\n",
    "\n",
    "command = 'python \"{}/detect.py\" --weights \"{}\" --img-size 640 --save-txt --source \"{}\"{} --name \"{}/run\" --classes {}--iou-thres 0.1'.format(path_to_yolov7 ,path_to_model,path_to_source,\" --nosave\" if not(display_results) else \" \", path_to_output_folder,classes_list_indexes)\n",
    "print(command)\n",
    "subprocess.run(command, shell=True)"
   ]
  },
  {
   "attachments": {},
   "cell_type": "markdown",
   "metadata": {},
   "source": [
    "Create the images.txt containing all images ran through the detector"
   ]
  },
  {
   "cell_type": "code",
   "execution_count": 4,
   "metadata": {},
   "outputs": [
    {
     "name": "stdout",
     "output_type": "stream",
     "text": [
      "Created image list in \"C:/GitHub/Object-Detection-and-Datasets/Datasets/RCT robots and players/New angle 2\\imagelist.txt\"\n"
     ]
    }
   ],
   "source": [
    "import os\n",
    "\n",
    "# Get a list of all the files in the directory\n",
    "file_list = os.listdir(path_to_source)\n",
    "\n",
    "# Filter out only the image files\n",
    "image_extensions = ['.jpg', '.jpeg', '.png', '.bmp', '.gif']\n",
    "image_list = [filename for filename in file_list if os.path.splitext(filename)[1].lower() in image_extensions]\n",
    "\n",
    "# Write the image names to a text file\n",
    "with open(os.path.join(path_to_output_folder,'imagelist.txt'), 'a') as f:\n",
    "    for image_name in image_list:\n",
    "        f.write(os.path.normpath(os.path.join(path_to_source, image_name)) + '\\n')\n",
    "    print('Created image list in \"{}\"'.format(os.path.join(path_to_output_folder,'imagelist.txt')))\n"
   ]
  }
 ],
 "metadata": {
  "kernelspec": {
   "display_name": "Python 3",
   "language": "python",
   "name": "python3"
  },
  "language_info": {
   "codemirror_mode": {
    "name": "ipython",
    "version": 3
   },
   "file_extension": ".py",
   "mimetype": "text/x-python",
   "name": "python",
   "nbconvert_exporter": "python",
   "pygments_lexer": "ipython3",
   "version": "3.10.11"
  },
  "orig_nbformat": 4
 },
 "nbformat": 4,
 "nbformat_minor": 2
}
